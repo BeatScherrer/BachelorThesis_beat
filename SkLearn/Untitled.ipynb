{
 "cells": [
  {
   "cell_type": "code",
   "execution_count": 1,
   "metadata": {
    "collapsed": false
   },
   "outputs": [],
   "source": [
    "# print(__doc__)\n",
    "\n",
    "from time import time\n",
    "\n",
    "import matplotlib.pyplot as plt\n",
    "import numpy as np\n",
    "import scipy as sp\n",
    "from pathlib import Path\n",
    "from PIL import Image\n",
    "\n",
    "\n",
    "from sklearn.decomposition import MiniBatchDictionaryLearning\n",
    "from sklearn.feature_extraction.image import extract_patches_2d\n",
    "from sklearn.feature_extraction.image import reconstruct_from_patches_2d\n",
    "from sklearn.utils.testing import SkipTest\n",
    "from sklearn.utils.fixes import sp_version"
   ]
  },
  {
   "cell_type": "code",
   "execution_count": 2,
   "metadata": {
    "collapsed": false
   },
   "outputs": [],
   "source": [
    "try:\n",
    "    p = Path('../Sklearn/images/cartoon/cartoon_5.jpg')\n",
    "    img = Image.open(p)\n",
    "    img = img.convert('L')\n",
    "    img = np.asarray(img)\n",
    "except:\n",
    "    print('Error while reading Image!')\n"
   ]
  },
  {
   "cell_type": "code",
   "execution_count": 3,
   "metadata": {
    "collapsed": true
   },
   "outputs": [],
   "source": [
    "img = img / 255"
   ]
  },
  {
   "cell_type": "code",
   "execution_count": 4,
   "metadata": {
    "collapsed": false
   },
   "outputs": [],
   "source": [
    "# downsample for higher speed. third argument in array parameter = step size\n",
    "img = img[::2, ::2] + img[1::2, ::2] + img[::2, 1::2] + img[1::2, 1::2]\n",
    "img /= 4.0\n",
    "height, width = img.shape"
   ]
  },
  {
   "cell_type": "code",
   "execution_count": 5,
   "metadata": {
    "collapsed": false
   },
   "outputs": [
    {
     "name": "stdout",
     "output_type": "stream",
     "text": [
      "Distorting image...\n"
     ]
    }
   ],
   "source": [
    "# Distort the right half of the image\n",
    "print('Distorting image...')\n",
    "distorted = img.copy()\n",
    "distorted[:, width // 2:] += 0.075 * np.random.randn(height, width // 2)"
   ]
  },
  {
   "cell_type": "code",
   "execution_count": 6,
   "metadata": {
    "collapsed": false
   },
   "outputs": [
    {
     "name": "stdout",
     "output_type": "stream",
     "text": [
      "Extracting reference patches...\n",
      "done in 0.17s.\n"
     ]
    }
   ],
   "source": [
    "# Extract all reference patches from the left half of the image\n",
    "print('Extracting reference patches...')\n",
    "t0 = time()\n",
    "patch_size = (7, 7)\n",
    "data = extract_patches_2d(distorted[:, :width // 2], patch_size)\n",
    "data = data.reshape(data.shape[0], -1)\n",
    "data -= np.mean(data, axis=0)\n",
    "data /= np.std(data, axis=0)\n",
    "print('done in %.2fs.' % (time() - t0))"
   ]
  },
  {
   "cell_type": "code",
   "execution_count": 7,
   "metadata": {
    "collapsed": false
   },
   "outputs": [
    {
     "name": "stdout",
     "output_type": "stream",
     "text": [
      "Learning the dictionary...\n",
      "done in 5.74s.\n"
     ]
    }
   ],
   "source": [
    "print('Learning the dictionary...')\n",
    "t0 = time()\n",
    "dico = MiniBatchDictionaryLearning(n_components=100, alpha=1, n_iter=500)\n",
    "V = dico.fit(data).components_\n",
    "dt = time() - t0\n",
    "print('done in %.2fs.' % dt)"
   ]
  },
  {
   "cell_type": "code",
   "execution_count": 8,
   "metadata": {
    "collapsed": false
   },
   "outputs": [],
   "source": [
    "plt.figure(figsize=(4.2, 4))\n",
    "for i, comp in enumerate(V[:100]):\n",
    "    plt.subplot(10, 10, i + 1)\n",
    "    plt.imshow(comp.reshape(patch_size), cmap=plt.cm.gray_r,\n",
    "               interpolation='nearest')\n",
    "    plt.xticks(())\n",
    "    plt.yticks(())\n",
    "plt.suptitle('Dictionary learned from face patches\\n' +\n",
    "             'Train time %.1fs on %d patches' % (dt, len(data)),\n",
    "             fontsize=16)\n",
    "plt.subplots_adjust(0.08, 0.02, 0.92, 0.85, 0.08, 0.23)"
   ]
  },
  {
   "cell_type": "code",
   "execution_count": 9,
   "metadata": {
    "collapsed": true
   },
   "outputs": [],
   "source": [
    "def show_with_diff(image, reference, title):\n",
    "    \"\"\"Helper function to display denoising\"\"\"\n",
    "    plt.figure(figsize=(5, 3.3))\n",
    "    plt.subplot(1, 2, 1)\n",
    "    plt.title('Image')\n",
    "    plt.imshow(image, vmin=0, vmax=1, cmap=plt.cm.gray,\n",
    "               interpolation='nearest')\n",
    "    plt.xticks(())\n",
    "    plt.yticks(())\n",
    "    plt.subplot(1, 2, 2)\n",
    "    difference = image - reference\n",
    "\n",
    "    plt.title('Difference (norm: %.2f)' % np.sqrt(np.sum(difference ** 2)))\n",
    "    plt.imshow(difference, vmin=-0.5, vmax=0.5, cmap=plt.cm.PuOr,\n",
    "               interpolation='nearest')\n",
    "    plt.xticks(())\n",
    "    plt.yticks(())\n",
    "    plt.suptitle(title, size=16)\n",
    "    plt.subplots_adjust(0.02, 0.02, 0.98, 0.79, 0.02, 0.2)"
   ]
  },
  {
   "cell_type": "code",
   "execution_count": 17,
   "metadata": {
    "collapsed": true
   },
   "outputs": [],
   "source": [
    "show_with_diff(distorted, img, 'Distorted image')"
   ]
  },
  {
   "cell_type": "code",
   "execution_count": 11,
   "metadata": {
    "collapsed": false
   },
   "outputs": [
    {
     "name": "stdout",
     "output_type": "stream",
     "text": [
      "Extracting noisy patches... \n",
      "done in 0.08s.\n"
     ]
    }
   ],
   "source": [
    "print('Extracting noisy patches... ')\n",
    "t0 = time()\n",
    "data = extract_patches_2d(distorted[:, width // 2:], patch_size)\n",
    "data = data.reshape(data.shape[0], -1)\n",
    "intercept = np.mean(data, axis=0)\n",
    "data -= intercept\n",
    "print('done in %.2fs.' % (time() - t0))"
   ]
  },
  {
   "cell_type": "code",
   "execution_count": null,
   "metadata": {
    "collapsed": true
   },
   "outputs": [],
   "source": []
  },
  {
   "cell_type": "code",
   "execution_count": 12,
   "metadata": {
    "collapsed": true
   },
   "outputs": [],
   "source": [
    "transform_algorithms = [\n",
    "    ('Orthogonal Matching Pursuit\\n1 atom', 'omp',\n",
    "     {'transform_n_nonzero_coefs': 1}),\n",
    "    ('Orthogonal Matching Pursuit\\n2 atoms', 'omp',\n",
    "     {'transform_n_nonzero_coefs': 2}),\n",
    "    ('Least-angle regression\\n5 atoms', 'lars',\n",
    "     {'transform_n_nonzero_coefs': 5}),\n",
    "    ('Thresholding\\n alpha=0.1', 'threshold', {'transform_alpha': .1})]"
   ]
  },
  {
   "cell_type": "code",
   "execution_count": 16,
   "metadata": {
    "collapsed": false
   },
   "outputs": [
    {
     "name": "stdout",
     "output_type": "stream",
     "text": [
      "Orthogonal Matching Pursuit\n",
      "1 atom...\n",
      "done in 49.47s.\n",
      "Orthogonal Matching Pursuit\n",
      "2 atoms...\n",
      "done in 171.18s.\n",
      "Least-angle regression\n",
      "5 atoms...\n",
      "done in 298.54s.\n",
      "Thresholding\n",
      " alpha=0.1...\n",
      "done in 1.73s.\n"
     ]
    }
   ],
   "source": [
    "reconstructions = {}\n",
    "for title, transform_algorithm, kwargs in transform_algorithms:\n",
    "    print(title + '...')\n",
    "    reconstructions[title] = img.copy()\n",
    "    t0 = time()\n",
    "    dico.set_params(transform_algorithm=transform_algorithm, **kwargs)\n",
    "    code = dico.transform(data)\n",
    "    patches = np.dot(code, V)\n",
    "\n",
    "    patches += intercept\n",
    "    patches = patches.reshape(len(data), *patch_size)\n",
    "    if transform_algorithm == 'threshold':\n",
    "        patches -= patches.min()\n",
    "        patches /= patches.max()\n",
    "    reconstructions[title][:, width // 2:] = reconstruct_from_patches_2d(\n",
    "        patches, (height, width // 2))\n",
    "    dt = time() - t0\n",
    "    print('done in %.2fs.' % dt)\n",
    "    show_with_diff(reconstructions[title], img,\n",
    "                   title + ' (time: %.1fs)' % dt)"
   ]
  },
  {
   "cell_type": "code",
   "execution_count": 15,
   "metadata": {
    "collapsed": true
   },
   "outputs": [],
   "source": [
    "plt.show()"
   ]
  },
  {
   "cell_type": "code",
   "execution_count": null,
   "metadata": {
    "collapsed": true
   },
   "outputs": [],
   "source": []
  }
 ],
 "metadata": {
  "kernelspec": {
   "display_name": "Python 3",
   "language": "python",
   "name": "python3"
  },
  "language_info": {
   "codemirror_mode": {
    "name": "ipython",
    "version": 3
   },
   "file_extension": ".py",
   "mimetype": "text/x-python",
   "name": "python",
   "nbconvert_exporter": "python",
   "pygments_lexer": "ipython3",
   "version": "3.6.0"
  }
 },
 "nbformat": 4,
 "nbformat_minor": 2
}
